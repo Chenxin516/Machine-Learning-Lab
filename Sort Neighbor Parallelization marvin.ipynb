{
 "cells": [
  {
   "cell_type": "code",
   "execution_count": 1,
   "metadata": {},
   "outputs": [],
   "source": [
    "#Import Libraries\n",
    "import pandas as pd\n",
    "import numpy as np\n",
    "import math\n",
    "from scipy.spatial import distance\n",
    "from timeit import default_timer as timer\n",
    "\n",
    "#Parallelization Libaries\n",
    "from joblib import Parallel, delayed\n",
    "import multiprocessing\n",
    "num_cores = multiprocessing.cpu_count()"
   ]
  },
  {
   "cell_type": "code",
   "execution_count": 2,
   "metadata": {},
   "outputs": [],
   "source": [
    "#Load Data\n",
    "#tilt = pd.read_csv('./tilt_frame=23.csv', header = None)\n",
    "tilt = pd.read_csv('tilt_frame=23.csv', header = None)"
   ]
  },
  {
   "cell_type": "code",
   "execution_count": 3,
   "metadata": {
    "scrolled": true
   },
   "outputs": [
    {
     "name": "stdout",
     "output_type": "stream",
     "text": [
      "(186067, 3)\n",
      "186067\n",
      "(186067, 2)\n",
      "(186067, 3)\n"
     ]
    }
   ],
   "source": [
    "#indexing of tilt\n",
    "t_full = tilt.reset_index().values\n",
    "t_index = t_full[:,0:3] #numpy.ndarray\n",
    "print(t_index.shape)\n",
    "#Parameters\n",
    "t_row = len(tilt.index) #int\n",
    "print(t_row)\n",
    "b_tol = 2.5\n",
    "t_tol = 22.5\n",
    "t_bot = t_index[:,1:3] - b_tol\n",
    "print(t_bot.shape)\n",
    "t_top = t_index[:,1:3] + t_tol\n",
    "print(t_index.shape)"
   ]
  },
  {
   "cell_type": "code",
   "execution_count": 4,
   "metadata": {},
   "outputs": [],
   "source": [
    "#Bott and Top tol\n",
    "t_index = np.append(t_index,t_bot, axis = 1)\n",
    "t_index = np.append(t_index,t_top, axis = 1)\n"
   ]
  },
  {
   "cell_type": "code",
   "execution_count": 5,
   "metadata": {},
   "outputs": [],
   "source": [
    "#Index Sorting Function\n",
    "## returns sorted row \n",
    "def sort(x, t_index):\n",
    "    ss_index = np.full(shape = 100, fill_value = -1, dtype = float)\n",
    "    x_bott = t_index[x,3]\n",
    "    x_top  = t_index[x,5]\n",
    "    y_bott = t_index[x,4]\n",
    "    y_top  = t_index[x,6]\n",
    "    ss_index[0] = t_index[x,1]\n",
    "    ss_index[1] = t_index[x,2]\n",
    "    t = 2\n",
    "    for i in range(0,t_row):\n",
    "        if (x_bott <= t_index[i,1] <= x_top) and (y_bott <= t_index[i,2] <= y_top):\n",
    "            ss_index[t] = t_index[i,0] \n",
    "            t += 1\n",
    "\n",
    "\n",
    "    # return np.transpose(s_index)\n",
    "    \n",
    "\n",
    "    new=np.delete(ss_index,np.where(ss_index==-1))\n",
    "    x_b=t_index[x,1]-2.5\n",
    "    x_t=t_index[x,1]+2.5\n",
    "    y_b=t_index[x,2]-2.5\n",
    "    y_t=t_index[x,2]+2.5\n",
    "    s_index = np.full(shape = 27, fill_value = -1, dtype = float)\n",
    "    s_index[0]=new[0]\n",
    "    s_index[1]=new[1]\n",
    "\n",
    "    t = 2\n",
    "    for i in range (0,5):\n",
    "        for k in range (0,5):\n",
    "            for m in range (0,len(new)):\n",
    "                if (x_b <= t_index[int(new[m]),1] <= x_t) and (y_b <= t_index[int(new[m]),2] <= y_t):\n",
    "                    s_index[t]=new[m]\n",
    "                    t+=1\n",
    "                    break\n",
    "    \n",
    "            x_b+=5\n",
    "            x_t+=5\n",
    "\n",
    "        y_b+=5\n",
    "        y_t+=5\n",
    "        x_b=t_index[0,1]-2.5\n",
    "        x_t=t_index[0,1]+2.5\n",
    "    return s_index\n"
   ]
  },
  {
   "cell_type": "code",
   "execution_count": null,
   "metadata": {},
   "outputs": [],
   "source": []
  },
  {
   "cell_type": "code",
   "execution_count": 6,
   "metadata": {},
   "outputs": [
    {
     "data": {
      "text/plain": [
       "array([ 2.03900e+03,  1.53400e+03,  1.86062e+05, -1.00000e+00,\n",
       "       -1.00000e+00, -1.00000e+00, -1.00000e+00, -1.00000e+00,\n",
       "       -1.00000e+00, -1.00000e+00, -1.00000e+00, -1.00000e+00,\n",
       "       -1.00000e+00, -1.00000e+00, -1.00000e+00, -1.00000e+00,\n",
       "       -1.00000e+00, -1.00000e+00, -1.00000e+00, -1.00000e+00,\n",
       "       -1.00000e+00, -1.00000e+00, -1.00000e+00, -1.00000e+00,\n",
       "       -1.00000e+00, -1.00000e+00, -1.00000e+00])"
      ]
     },
     "execution_count": 6,
     "metadata": {},
     "output_type": "execute_result"
    }
   ],
   "source": [
    "sort(186067-1, t_index)"
   ]
  },
  {
   "cell_type": "code",
   "execution_count": null,
   "metadata": {},
   "outputs": [],
   "source": [
    "#Running\n",
    "start = timer()\n",
    "result = Parallel(n_jobs=num_cores)(delayed(sort)(x, t_index) for x in range(0, t_row) )\n",
    "stop = timer()\n",
    "print(stop-start)\n",
    "#result =  Parallel(n_jobs=num_cores, backend=\"threading\")(delayed(sort)(x, t_index) for x in range(0, t_row) );\n",
    "#print(result)"
   ]
  },
  {
   "cell_type": "code",
   "execution_count": null,
   "metadata": {},
   "outputs": [],
   "source": [
    "#Adds theta to end of index\n",
    "tilt_t = t_full[:,3:28]\n",
    "#Adds theta to end of index\n",
    "s_index = np.array(result)\n",
    "s_index = np.append(s_index, tilt_t, axis = 1)\n",
    "s_index = s_index[(s_index != -1).all(axis=1)]\n",
    "s_indexFull = s_index\n",
    "tilt_t = s_index[:,27:52]\n",
    "s_index = s_index[:,0:27]"
   ]
  },
  {
   "cell_type": "code",
   "execution_count": null,
   "metadata": {},
   "outputs": [],
   "source": [
    "df = pd.DataFrame(s_index)\n",
    "#df.to_csv('./index_full051619_frame=___.csv',header = None, index = None)\n",
    "df.to_csv('index_fullParallelizationFull.csv',header = None, index = None)"
   ]
  },
  {
   "cell_type": "code",
   "execution_count": null,
   "metadata": {},
   "outputs": [],
   "source": [
    "#load/set indexfull variable\n",
    "indexFull = s_index"
   ]
  },
  {
   "cell_type": "code",
   "execution_count": null,
   "metadata": {},
   "outputs": [],
   "source": [
    "#import Stress\n",
    "#stress = pd.read_csv('stress_frame_x55_56_63_70_71_py=23.csv', header = None)\n",
    "stress = pd.read_csv('stress_frame_x55_56_63_70_71_py=23.csv', header = None)\n",
    "stress_5 = stress.reset_index().values #conver to numpy"
   ]
  },
  {
   "cell_type": "code",
   "execution_count": null,
   "metadata": {},
   "outputs": [],
   "source": [
    "#Fill out full csv\n",
    "start = timer()\n",
    "m_row = len(indexFull)\n",
    "s_full = indexFull[:,0:2]\n",
    "temp = np.empty(shape = (m_row,125))\n",
    "for y in range(0,m_row):\n",
    "    r = 0\n",
    "    for i in range(2,27):\n",
    "        t_i = int(indexFull[y,i])\n",
    "        temp[y,r:r+5] = stress_5[t_i,1:6]\n",
    "        r += 5\n",
    "s_full = np.append(s_full,temp, axis=1)\n",
    "stop = timer()\n",
    "print(stop-start)"
   ]
  },
  {
   "cell_type": "code",
   "execution_count": null,
   "metadata": {},
   "outputs": [],
   "source": [
    "#Print out full csv\n",
    "s_full = np.append(tilt_t,s_full, axis = 1)\n",
    "df = pd.DataFrame(s_full)\n",
    "df.to_csv(\"s_full_Parallelization.csv\", header = None, index = None)"
   ]
  },
  {
   "cell_type": "code",
   "execution_count": null,
   "metadata": {},
   "outputs": [],
   "source": []
  }
 ],
 "metadata": {
  "kernelspec": {
   "display_name": "Python 3",
   "language": "python",
   "name": "python3"
  },
  "language_info": {
   "codemirror_mode": {
    "name": "ipython",
    "version": 3
   },
   "file_extension": ".py",
   "mimetype": "text/x-python",
   "name": "python",
   "nbconvert_exporter": "python",
   "pygments_lexer": "ipython3",
   "version": "3.7.3"
  }
 },
 "nbformat": 4,
 "nbformat_minor": 2
}
